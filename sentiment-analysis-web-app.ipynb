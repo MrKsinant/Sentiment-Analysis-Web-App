{
 "cells": [
  {
   "cell_type": "markdown",
   "metadata": {},
   "source": [
    "# Sentiment Analysis Web App\n",
    "\n",
    "## Introduction\n",
    "\n",
    "In this project, thanks to **SageMaker** and **PyTorch**, we are going construct a basic (but functional) **Sentiment Analysis Web App** from end to end. Our goal will be to have a simple web page which a user can use to enter a movie review; the web page will then send the review off to our deployed model which will predict the sentiment of the entered review.\n",
    "\n",
    "As a technical prerequisite, to perform that, first, we need to make some imports:"
   ]
  },
  {
   "cell_type": "code",
   "execution_count": 1,
   "metadata": {},
   "outputs": [],
   "source": [
    "# Needed imports:\n",
    "import numpy as np\n",
    "import pandas as pd\n",
    "import os, glob, nltk, re, pickle, sagemaker, torch, time\n",
    "from bs4 import BeautifulSoup\n",
    "from collections import Counter\n",
    "from sklearn.utils import shuffle\n",
    "from nltk.corpus import stopwords\n",
    "from torch.nn import BCELoss\n",
    "from torch.optim import Adam\n",
    "from train.model import LSTMClassifier\n",
    "from sagemaker.pytorch import PyTorch, PyTorchModel\n",
    "from sagemaker.predictor import RealTimePredictor\n",
    "from sklearn.metrics import accuracy_score\n",
    "from nltk.stem.porter import PorterStemmer\n",
    "from torch.utils.data import DataLoader, TensorDataset"
   ]
  },
  {
   "cell_type": "markdown",
   "metadata": {},
   "source": [
    "## General Outline\n",
    "\n",
    "Before starting this project, we can recall the general outline for SageMaker projects using a notebook instance:\n",
    "\n",
    "1. Download or otherwise retrieve the data;\n",
    "2. Process / Prepare the data;\n",
    "3. Upload the processed data to S3;\n",
    "4. Train a chosen model;\n",
    "5. Test the trained model (typically using a batch transform job);\n",
    "6. Deploy the trained model;\n",
    "7. Use the deployed model.\n",
    "\n",
    "For this project, we will be following the steps in the general outline with some modifications. \n",
    "\n",
    "Indeed, we will not be testing the model in its own step: We will do it by deploying our model and then using the deployed model by sending the test data to it. One of the reasons for doing this is so that we can make sure that our deployed model is working correctly before moving forward.\n",
    "\n",
    "In addition, we will deploy and use our trained model a second time: In this second iteration, we will customize the way that our trained model is deployed by including some of our own code. In addition, our newly deployed model will be used in the sentiment analysis web app.\n",
    "\n",
    "## Step 1: Download the data\n",
    "\n",
    "Here, we will be using the [IMDb dataset](http://ai.stanford.edu/~amaas/data/sentiment/).\n",
    "\n",
    "*Nota Bene:* A publication using this dataset can be found is this one.\n",
    "> Maas, Andrew L., et al. [Learning Word Vectors for Sentiment Analysis](http://ai.stanford.edu/~amaas/data/sentiment/). In _Proceedings of the 49th Annual Meeting of the Association for Computational Linguistics: Human Language Technologies_. Association for Computational Linguistics, 2011."
   ]
  },
  {
   "cell_type": "code",
   "execution_count": 2,
   "metadata": {},
   "outputs": [
    {
     "name": "stdout",
     "output_type": "stream",
     "text": [
      "--2018-12-25 08:19:18--  http://ai.stanford.edu/~amaas/data/sentiment/aclImdb_v1.tar.gz\n",
      "Resolving ai.stanford.edu (ai.stanford.edu)... 171.64.68.10\n",
      "Connecting to ai.stanford.edu (ai.stanford.edu)|171.64.68.10|:80... connected.\n",
      "HTTP request sent, awaiting response... 200 OK\n",
      "Length: 84125825 (80M) [application/x-gzip]\n",
      "Saving to: ‘../data/aclImdb_v1.tar.gz’\n",
      "\n",
      "../data/aclImdb_v1. 100%[===================>]  80.23M  10.0MB/s    in 9.4s    \n",
      "\n",
      "2018-12-25 08:19:28 (8.52 MB/s) - ‘../data/aclImdb_v1.tar.gz’ saved [84125825/84125825]\n",
      "\n"
     ]
    }
   ],
   "source": [
    "%mkdir ../data\n",
    "!wget -O ../data/aclImdb_v1.tar.gz http://ai.stanford.edu/~amaas/data/sentiment/aclImdb_v1.tar.gz\n",
    "!tar -zxf ../data/aclImdb_v1.tar.gz -C ../data"
   ]
  },
  {
   "cell_type": "markdown",
   "metadata": {},
   "source": [
    "## Step 2: Process / Prepare the data\n",
    "\n",
    "Now, we will be doing some initial data processing: To begin with, we will read in each of the reviews and combine them into a single input structure; then, we will split the dataset into a training set and a testing set."
   ]
  },
  {
   "cell_type": "code",
   "execution_count": 3,
   "metadata": {},
   "outputs": [],
   "source": [
    "# Function read_imdb_data:\n",
    "\n",
    "def read_imdb_data(data_dir='../data/aclImdb'):\n",
    "    \"\"\"\n",
    "    Read data from source\n",
    "    \"\"\"\n",
    "    \n",
    "    # Initialize data and labels:\n",
    "    data = {}\n",
    "    labels = {}\n",
    "    \n",
    "    # Initialize train and test sections:\n",
    "    for data_type in ['train', 'test']:\n",
    "        data[data_type] = {}\n",
    "        labels[data_type] = {}\n",
    "        \n",
    "        # Initialize sentiment classification sections:\n",
    "        for sentiment in ['pos', 'neg']:\n",
    "            data[data_type][sentiment] = []\n",
    "            labels[data_type][sentiment] = []\n",
    "            \n",
    "            # Create path and files:\n",
    "            path = os.path.join(data_dir, data_type, sentiment, '*.txt')\n",
    "            files = glob.glob(path)\n",
    "            \n",
    "            # Build data and labels:\n",
    "            for f in files:\n",
    "                with open(f) as review:\n",
    "                    data[data_type][sentiment].append(review.read())\n",
    "                    # Here we represent a positive review by '1' and a negative review by '0'\n",
    "                    labels[data_type][sentiment].append(1 if sentiment == 'pos' else 0)\n",
    "            \n",
    "            # Manage exception:\n",
    "            assert len(data[data_type][sentiment]) == len(labels[data_type][sentiment]), \\\n",
    "                    \"{}/{} data size does not match labels size\".format(data_type, sentiment)\n",
    "    \n",
    "    # Return data and labels:\n",
    "    return data, labels"
   ]
  },
  {
   "cell_type": "code",
   "execution_count": 4,
   "metadata": {},
   "outputs": [
    {
     "name": "stdout",
     "output_type": "stream",
     "text": [
      "IMDb reviews:\n",
      "=> train: 12500 positive / 12500 negative\n",
      "=> test: 12500 positive / 12500 negative\n"
     ]
    }
   ],
   "source": [
    "# Create data and labels from source:\n",
    "data, labels = read_imdb_data()\n",
    "\n",
    "# Some stats on the dataset:\n",
    "print(\"IMDb reviews:\")\n",
    "print(\"=> train: {} positive / {} negative\".format(len(data['train']['pos']),\n",
    "                                                   len(data['train']['neg'])))\n",
    "print(\"=> test: {} positive / {} negative\".format(len(data['test']['pos']),\n",
    "                                                  len(data['test']['neg'])))"
   ]
  },
  {
   "cell_type": "markdown",
   "metadata": {},
   "source": [
    "Now that we've read the raw training and testing data from the downloaded dataset, we will combine the positive and negative reviews and shuffle the resulting records."
   ]
  },
  {
   "cell_type": "code",
   "execution_count": 5,
   "metadata": {},
   "outputs": [],
   "source": [
    "# Function prepare_imdb_data:\n",
    "\n",
    "def prepare_imdb_data(data, labels):\n",
    "    \"\"\"\n",
    "    Prepare training and test sets from IMDb movie reviews\n",
    "    \"\"\"\n",
    "    \n",
    "    # Combine positive and negative reviews and labels:\n",
    "    data_train = data['train']['pos'] + data['train']['neg']\n",
    "    data_test = data['test']['pos'] + data['test']['neg']\n",
    "    labels_train = labels['train']['pos'] + labels['train']['neg']\n",
    "    labels_test = labels['test']['pos'] + labels['test']['neg']\n",
    "    \n",
    "    # Shuffle reviews and corresponding labels within training and test sets:\n",
    "    data_train, labels_train = shuffle(data_train, labels_train)\n",
    "    data_test, labels_test = shuffle(data_test, labels_test)\n",
    "    \n",
    "    # Return a unified training data, test data, training labels, test labets:\n",
    "    return data_train, data_test, labels_train, labels_test"
   ]
  },
  {
   "cell_type": "code",
   "execution_count": 6,
   "metadata": {},
   "outputs": [
    {
     "name": "stdout",
     "output_type": "stream",
     "text": [
      "IMDb reviews (combined):\n",
      "=> train: 25000\n",
      "=> test: 25000\n"
     ]
    }
   ],
   "source": [
    "# Prepare the different datasets:\n",
    "train_X, test_X, train_y, test_y = prepare_imdb_data(data, labels)\n",
    "\n",
    "# Some stats on the dataset:\n",
    "print(\"IMDb reviews (combined):\")\n",
    "print(\"=> train: {}\".format(len(train_X)))\n",
    "print(\"=> test: {}\".format(len(test_X)))"
   ]
  },
  {
   "cell_type": "markdown",
   "metadata": {},
   "source": [
    "Now that we have our training and testing sets unified and prepared, we should do a quick check and see an example of the data our model will be trained on. This is generally a good idea as it allows us to see how each of the further processing steps affects the reviews and it also ensures that the data has been loaded correctly."
   ]
  },
  {
   "cell_type": "code",
   "execution_count": 7,
   "metadata": {},
   "outputs": [
    {
     "name": "stdout",
     "output_type": "stream",
     "text": [
      "=> Review #42 in the training set:\n",
      "This is a dramatic film in the whole sense of the word. It tells a tail that here in Greece we live as a routine in everyday life without realizing how sad it is. Sure it has some extremes.. but every now and then real life sorrow surpasses art.It is deeply critical of the goals we pursue and the whole social structure build around them. The film has a deeper understanding of Greek ways of life, stereotypes, and social structure. Unlike most Greek films that have a certain fast-food-mainstream audience, this one does not target anyone in particular but while you watch it you feel that someone put the best possible words and pictures to describe your feelings. I am not a big fan of traditional music either but I wouldn't like to hear anything else when it was played during the film.<br /><br />If someone told me to say something against this film I'd define the following, sometimes the transition between scenes seemed sudden or somewhat cut. I guess the editing had to cut it up to fit the 2hours and a bit for the theatres..<br /><br />Anyway I could write more and more to express my thought over this but I guess u have to see it and discuss it with a friend. A must see\n",
      "\n",
      "=> Label #42 in the training set ('0': negative, '1': positive): 1\n"
     ]
    }
   ],
   "source": [
    "# Review #42 in the training set:\n",
    "print(\"=> Review #42 in the training set:\")\n",
    "print(train_X[42])\n",
    "\n",
    "# Label #42 in the training set ('0': negative, '1': positive):\n",
    "print(\"\\n=> Label #42 in the training set ('0': negative, '1': positive): {}\".format(train_y[42]))"
   ]
  },
  {
   "cell_type": "markdown",
   "metadata": {},
   "source": [
    "The first step in processing the reviews is to make sure that any html tags that appear should be removed. In addition we wish to tokenize our input, that way words such as *entertained* and *entertaining* are considered the same with regard to sentiment analysis."
   ]
  },
  {
   "cell_type": "code",
   "execution_count": 8,
   "metadata": {},
   "outputs": [],
   "source": [
    "# Function review_to_words:\n",
    "\n",
    "def review_to_words(review):\n",
    "    \"\"\"\n",
    "    This function transforms a review into its corresponding list of words\n",
    "    \"\"\"\n",
    "\n",
    "    # Download and set removing aspects:\n",
    "    nltk.download(\"stopwords\", quiet=True)\n",
    "    stemmer = PorterStemmer()\n",
    "\n",
    "    # Remove HTML tags:\n",
    "    text = BeautifulSoup(review, \"html.parser\").get_text()\n",
    "\n",
    "    # Convert to lower case:\n",
    "    text = re.sub(r\"[^a-zA-Z0-9]\", \" \", text.lower())\n",
    "\n",
    "    # Split string into words:\n",
    "    words = text.split()\n",
    "\n",
    "    # Remove stopwords:\n",
    "    words = [w for w in words if w not in stopwords.words(\"english\")]\n",
    "\n",
    "    # Remove commoner morphological and inflexional endings:\n",
    "    words = [PorterStemmer().stem(w) for w in words]\n",
    "\n",
    "    # Return review as a list of words:\n",
    "    return words"
   ]
  },
  {
   "cell_type": "markdown",
   "metadata": {},
   "source": [
    "The `review_to_words` function defined above uses `BeautifulSoup` to remove any html tags that appear and uses the `nltk` package to tokenize the reviews. As a check to ensure we know how everything is working, try applying `review_to_words` to one of the reviews in the training set."
   ]
  },
  {
   "cell_type": "code",
   "execution_count": 9,
   "metadata": {},
   "outputs": [
    {
     "name": "stdout",
     "output_type": "stream",
     "text": [
      "Review #42 in the training set processed by 'review_to_words':\n",
      "['dramat', 'film', 'whole', 'sens', 'word', 'tell', 'tail', 'greec', 'live', 'routin', 'everyday', 'life', 'without', 'realiz', 'sad', 'sure', 'extrem', 'everi', 'real', 'life', 'sorrow', 'surpass', 'art', 'deepli', 'critic', 'goal', 'pursu', 'whole', 'social', 'structur', 'build', 'around', 'film', 'deeper', 'understand', 'greek', 'way', 'life', 'stereotyp', 'social', 'structur', 'unlik', 'greek', 'film', 'certain', 'fast', 'food', 'mainstream', 'audienc', 'one', 'target', 'anyon', 'particular', 'watch', 'feel', 'someon', 'put', 'best', 'possibl', 'word', 'pictur', 'describ', 'feel', 'big', 'fan', 'tradit', 'music', 'either', 'like', 'hear', 'anyth', 'els', 'play', 'film', 'someon', 'told', 'say', 'someth', 'film', 'defin', 'follow', 'sometim', 'transit', 'scene', 'seem', 'sudden', 'somewhat', 'cut', 'guess', 'edit', 'cut', 'fit', '2hour', 'bit', 'theatr', 'anyway', 'could', 'write', 'express', 'thought', 'guess', 'u', 'see', 'discuss', 'friend', 'must', 'see']\n"
     ]
    }
   ],
   "source": [
    "# Apply review_to_words to #42 in the training set:\n",
    "review_42_to_words = review_to_words(train_X[42])\n",
    "print(\"Review #42 in the training set processed by 'review_to_words':\")\n",
    "print(review_42_to_words)"
   ]
  },
  {
   "cell_type": "markdown",
   "metadata": {},
   "source": [
    "Above, we mentioned that `review_to_words` function removes html formatting and allows us to tokenize the words found in a review, converting, for example, *entertained* and *entertaining* into *entertain*, so that they are treated as though they are the same word.\n",
    "\n",
    "Furthermore, it can be noted that this function converts a review in lower case, removes \"stop words\" (words that are not relevant in a text classification task, i.e. \"the\", \"a\"...) and splits the review into a array of individual words.\n",
    "\n",
    "The function below applies the `review_to_words` function to each of the reviews in the training and testing datasets, and, in addition, it caches the results.\n",
    "\n",
    "*Nota Bene:* We do this because performing this processing step can take a long time, so, this way, if we are unable to complete the notebook in the current session, we can come back without needing to process the data a second time."
   ]
  },
  {
   "cell_type": "code",
   "execution_count": 10,
   "metadata": {},
   "outputs": [],
   "source": [
    "# Define where to store cache files:\n",
    "cache_dir = os.path.join(\"../cache\", \"sentiment_analysis\")\n",
    "\n",
    "# Ensure cache directory exists:\n",
    "os.makedirs(cache_dir, exist_ok=True)\n",
    "\n",
    "# Function preprocess_data:\n",
    "\n",
    "def preprocess_data(data_train, data_test, labels_train, labels_test,\n",
    "                    cache_dir=cache_dir, cache_file=\"preprocessed_data.pkl\"):\n",
    "    \"\"\"\n",
    "    Convert each review to words (read from cache if available)\n",
    "    \"\"\"\n",
    "\n",
    "    # If cache_file is not None, try to read from it first:\n",
    "    cache_data = None\n",
    "    if cache_file is not None:\n",
    "        try:\n",
    "            with open(os.path.join(cache_dir, cache_file), 'rb') as f:\n",
    "                cache_data = pickle.load(f)\n",
    "            print(\"Read preprocessed data from cache file {}... Done.\".format(cache_file))\n",
    "        except:\n",
    "            # Unable to read from cache (but that's okay):\n",
    "            pass\n",
    "    \n",
    "    # If cache is missing, then do the heavy lifting:\n",
    "    if cache_data is None:\n",
    "        # Preprocess training and test data to obtain words for each review:\n",
    "        words_train = [review_to_words(review) for review in data_train]\n",
    "        words_test = [review_to_words(review) for review in data_test]\n",
    "        \n",
    "        # Write to cache file for future runs:\n",
    "        if cache_file is not None:\n",
    "            cache_data = dict(words_train=words_train, words_test=words_test,\n",
    "                              labels_train=labels_train, labels_test=labels_test)\n",
    "            with open(os.path.join(cache_dir, cache_file), 'wb') as f:\n",
    "                pickle.dump(cache_data, f)\n",
    "            print(\"Wrote preprocessed data to cache file {}... Done.\".format(cache_file))\n",
    "    else:\n",
    "        # Unpack data loaded from cache file:\n",
    "        words_train, words_test, labels_train, labels_test = (cache_data['words_train'],\n",
    "                                                              cache_data['words_test'],\n",
    "                                                              cache_data['labels_train'],\n",
    "                                                              cache_data['labels_test'])\n",
    "    \n",
    "    # Return preprocessed data:\n",
    "    return words_train, words_test, labels_train, labels_test"
   ]
  },
  {
   "cell_type": "code",
   "execution_count": 11,
   "metadata": {},
   "outputs": [
    {
     "name": "stdout",
     "output_type": "stream",
     "text": [
      "Wrote preprocessed data to cache file preprocessed_data.pkl... Done.\n"
     ]
    }
   ],
   "source": [
    "# Preprocess data:\n",
    "train_X, test_X, train_y, test_y = preprocess_data(train_X, test_X, train_y, test_y)"
   ]
  },
  {
   "cell_type": "markdown",
   "metadata": {},
   "source": [
    "For the model we are going to construct in this notebook, we will construct a feature representation which is very similar to a bag-of-words feature representation.\n",
    "\n",
    "To start, we will represent each word as an integer. Of course, some of the words that appear in the reviews occur very infrequently and so likely don't contain much information for the purposes of sentiment analysis, the way we will deal with this problem is that we will fix the size of our working vocabulary and we will only include the words that appear most frequently.\n",
    "\n",
    "We will then combine all of the infrequent words into a single category and, in our case, we will label it as `1`.\n",
    "\n",
    "Since we will be using a recurrent neural network, it will be convenient if the length of each review is the same: To do this, we will fix a size for our reviews and then pad short reviews with the category 'no word' (which we will label `0`) and truncate long reviews.\n",
    "\n",
    "Let's begin now.\n",
    "\n",
    "To begin with, we need to construct a way to map words that appear in the reviews to integers.\n",
    "\n",
    "Here we fix the size of our vocabulary (including the 'no word' and 'infrequent' categories) to be `5000`, but it will be possible to change this to see how it affects the model.\n",
    "\n",
    "*Nota Bene:* Below, we are going to implement the `build_dict()` function. It can be noted that even though the vocab_size is set to `5000`, we only want to construct a mapping for the most frequently appearing `4998` words. This is because we want to reserve the special labels `0` for 'no word' and `1` for 'infrequent word'."
   ]
  },
  {
   "cell_type": "code",
   "execution_count": 12,
   "metadata": {},
   "outputs": [],
   "source": [
    "# Function build_dict:\n",
    "\n",
    "def build_dict(data, vocab_size = 5000):\n",
    "    \"\"\"\n",
    "    Construct and return a dictionary mapping each of the most frequently appearing words to a unique integer\n",
    "    ('data' is a list of sentences, and a sentence is a list of words)\n",
    "    \"\"\"\n",
    "    \n",
    "    # Initialize and build word list:\n",
    "    word_list = []\n",
    "    for sentence in data:\n",
    "        for word in sentence:\n",
    "            word_list.append(word)\n",
    "    \n",
    "    # Store in a dictionary the words that appear in the reviews along with how often they occur:\n",
    "    word_count = dict(Counter(word_list))\n",
    "    \n",
    "    # Sort in frequency descending order the words of the previous dictionary:\n",
    "    sorted_words = sorted(word_count, key=word_count.get, reverse=True)\n",
    "    \n",
    "    # Initialize and build a dictionary that translates words into intergers:\n",
    "    word_dict = {}\n",
    "    for idx, word in enumerate(sorted_words[:vocab_size - 2]):\n",
    "        # Save room for the 'no word' and 'infrequent' labels:\n",
    "        word_dict[word] = idx + 2\n",
    "    \n",
    "    # Return built dictionary:\n",
    "    return word_dict"
   ]
  },
  {
   "cell_type": "code",
   "execution_count": 13,
   "metadata": {},
   "outputs": [],
   "source": [
    "# Construct word dictionary for training set:\n",
    "word_dict = build_dict(train_X)"
   ]
  },
  {
   "cell_type": "code",
   "execution_count": 14,
   "metadata": {},
   "outputs": [
    {
     "name": "stdout",
     "output_type": "stream",
     "text": [
      "The five most frequently appearing words in the training set are:\n",
      "1- movi\n",
      "2- film\n",
      "3- one\n",
      "4- like\n",
      "5- time\n"
     ]
    }
   ],
   "source": [
    "# Determine the five most frequently appearing words in the training set:\n",
    "sorted_words = sorted(word_dict, key=word_dict.get)\n",
    "print(\"The five most frequently appearing words in the training set are:\")\n",
    "print(\"1- {}\".format(sorted_words[0]))\n",
    "print(\"2- {}\".format(sorted_words[1]))\n",
    "print(\"3- {}\".format(sorted_words[2]))\n",
    "print(\"4- {}\".format(sorted_words[3]))\n",
    "print(\"5- {}\".format(sorted_words[4]))"
   ]
  },
  {
   "cell_type": "markdown",
   "metadata": {},
   "source": [
    "As it can be seen above, the five most frequently appearing words in the training set are not so surprising, indeed, they are common words belonging to \"movie critics lexicography\".\n",
    "\n",
    "Later on, when we will construct an endpoint which will process a submitted review, we will need to make use of the `word_dict` which we have created. As such, we will save it to a file now for future use."
   ]
  },
  {
   "cell_type": "code",
   "execution_count": 15,
   "metadata": {},
   "outputs": [],
   "source": [
    "# The folder we will use for storing data:\n",
    "data_dir = '../data/pytorch'\n",
    "\n",
    "# Make sure that the folder exists:\n",
    "if not os.path.exists(data_dir):\n",
    "    os.makedirs(data_dir)\n",
    "    \n",
    "# Save word_dict:\n",
    "with open(os.path.join(data_dir, 'word_dict.pkl'), 'wb') as f:\n",
    "    pickle.dump(word_dict, f)"
   ]
  },
  {
   "cell_type": "markdown",
   "metadata": {},
   "source": [
    "Now that we have our word dictionary which allows us to transform the words appearing in the reviews into integers, it is time to make use of it and convert our reviews to their integer sequence representation, making sure to pad or truncate to a fixed length, which in our case is `500`."
   ]
  },
  {
   "cell_type": "code",
   "execution_count": 16,
   "metadata": {},
   "outputs": [],
   "source": [
    "# Function convert_and_pad:\n",
    "\n",
    "def convert_and_pad(word_dict, sentence, pad=500):\n",
    "    \"\"\"\n",
    "    This function transforms a sentence through a word dictionary and a padding zone\n",
    "    \"\"\"\n",
    "\n",
    "    # Represent the 'no word' category by '0':\n",
    "    NOWORD = 0\n",
    "\n",
    "    # Represent the infrequent words (i.e. not appearing in word_dict) by '1':\n",
    "    INFREQ = 1\n",
    "\n",
    "    # Create default working sentence:\n",
    "    working_sentence = [NOWORD]*pad\n",
    "\n",
    "    # Treatment of each word of the sentence:\n",
    "    for word_index, word in enumerate(sentence[:pad]):\n",
    "        if word in word_dict:\n",
    "            working_sentence[word_index] = word_dict[word]\n",
    "        else:\n",
    "            working_sentence[word_index] = INFREQ\n",
    "\n",
    "    # Determine the min value between the length of the sentence and the padding zone:\n",
    "    min_length_zone = min(len(sentence), pad)\n",
    "\n",
    "    # Return the results:\n",
    "    return working_sentence, min_length_zone\n",
    "\n",
    "# Function convert_and_pad_data:\n",
    "\n",
    "def convert_and_pad_data(word_dict, data, pad=500):\n",
    "    \"\"\"\n",
    "    This function transforms a dataset through a word dictionary and a padding zone\n",
    "    \"\"\"\n",
    "    \n",
    "    # Initialize result lists:\n",
    "    result = []\n",
    "    lengths = []\n",
    "    \n",
    "    # Treatment of each sentence of the dataset:\n",
    "    for sentence in data:\n",
    "        converted, leng = convert_and_pad(word_dict, sentence, pad)\n",
    "        result.append(converted)\n",
    "        lengths.append(leng)\n",
    "    \n",
    "    # Convert results into arrays:\n",
    "    result_array = np.array(result)\n",
    "    lengths_array = np.array(lengths)\n",
    "    \n",
    "    # Return results:\n",
    "    return result_array, lengths_array"
   ]
  },
  {
   "cell_type": "code",
   "execution_count": 17,
   "metadata": {},
   "outputs": [],
   "source": [
    "# Apply convert_and_pad_data to training set:\n",
    "train_X, train_X_len = convert_and_pad_data(word_dict, train_X)\n",
    "\n",
    "# Apply convert_and_pad_data to testing set:\n",
    "test_X, test_X_len = convert_and_pad_data(word_dict, test_X)"
   ]
  },
  {
   "cell_type": "markdown",
   "metadata": {},
   "source": [
    "As a quick check to make sure that things are working as intended, we are going to check to see what one of the reviews in the training set looks like after having been processeed. Does this look reasonable? What is the length of a review in the training set?"
   ]
  },
  {
   "cell_type": "code",
   "execution_count": 19,
   "metadata": {},
   "outputs": [
    {
     "name": "stdout",
     "output_type": "stream",
     "text": [
      "Review #42 in the training set processed by 'convert_and_pad_data':\n",
      "\n",
      "=> Processed review:\n",
      "[ 702    3  144  196  307  133 3675    1   75 1735 2520   49  129  420\n",
      "  488  142  385   93   71   49 4862 3819  337 1536  507 2268 2378  144\n",
      "  867 1707  612  110    3 2425  244 3134   31   49  901  867 1707  601\n",
      " 3134    3  735  636 1481 2180  179    4 1524  181  763   12   62  201\n",
      "  140   53  284  307  269  773   62  116  123 1088   85  298    5  526\n",
      "  153  265   33    3  201  512   38   66    3 1902  214  434 2811   18\n",
      "   39 1866  582  373  355  445  373  651    1  124 1407  448   36  251\n",
      "  802   99  355 1098   11 1299  132  130   11    0    0    0    0    0\n",
      "    0    0    0    0    0    0    0    0    0    0    0    0    0    0\n",
      "    0    0    0    0    0    0    0    0    0    0    0    0    0    0\n",
      "    0    0    0    0    0    0    0    0    0    0    0    0    0    0\n",
      "    0    0    0    0    0    0    0    0    0    0    0    0    0    0\n",
      "    0    0    0    0    0    0    0    0    0    0    0    0    0    0\n",
      "    0    0    0    0    0    0    0    0    0    0    0    0    0    0\n",
      "    0    0    0    0    0    0    0    0    0    0    0    0    0    0\n",
      "    0    0    0    0    0    0    0    0    0    0    0    0    0    0\n",
      "    0    0    0    0    0    0    0    0    0    0    0    0    0    0\n",
      "    0    0    0    0    0    0    0    0    0    0    0    0    0    0\n",
      "    0    0    0    0    0    0    0    0    0    0    0    0    0    0\n",
      "    0    0    0    0    0    0    0    0    0    0    0    0    0    0\n",
      "    0    0    0    0    0    0    0    0    0    0    0    0    0    0\n",
      "    0    0    0    0    0    0    0    0    0    0    0    0    0    0\n",
      "    0    0    0    0    0    0    0    0    0    0    0    0    0    0\n",
      "    0    0    0    0    0    0    0    0    0    0    0    0    0    0\n",
      "    0    0    0    0    0    0    0    0    0    0    0    0    0    0\n",
      "    0    0    0    0    0    0    0    0    0    0    0    0    0    0\n",
      "    0    0    0    0    0    0    0    0    0    0    0    0    0    0\n",
      "    0    0    0    0    0    0    0    0    0    0    0    0    0    0\n",
      "    0    0    0    0    0    0    0    0    0    0    0    0    0    0\n",
      "    0    0    0    0    0    0    0    0    0    0    0    0    0    0\n",
      "    0    0    0    0    0    0    0    0    0    0    0    0    0    0\n",
      "    0    0    0    0    0    0    0    0    0    0    0    0    0    0\n",
      "    0    0    0    0    0    0    0    0    0    0    0    0    0    0\n",
      "    0    0    0    0    0    0    0    0    0    0    0    0    0    0\n",
      "    0    0    0    0    0    0    0    0    0    0    0    0    0    0\n",
      "    0    0    0    0    0    0    0    0    0    0]\n",
      "\n",
      "=> Length review: 107\n"
     ]
    }
   ],
   "source": [
    "# Examine review #42 in the training set:\n",
    "print(\"Review #42 in the training set processed by 'convert_and_pad_data':\")\n",
    "print(\"\\n=> Processed review:\\n{}\".format(train_X[42]))\n",
    "print(\"\\n=> Length review: {}\".format(train_X_len[42]))"
   ]
  },
  {
   "cell_type": "markdown",
   "metadata": {},
   "source": [
    "As it can be seen above, all seems quite reasonable for the review 42 of the training set.\n",
    "\n",
    "*Nota Bene:* In the cells above, we use the `preprocess_data` and `convert_and_pad_data` functions to process both the training and testing set: Although the word dictionary has been built only thanks to the training set, we can reasonnably think that this should not be a problem if both training and testing sets have been constituted carefully.\n",
    "\n",
    "## Step 3: Upload the processed data to S3\n",
    "\n",
    "Now, we will need to upload the training dataset to S3 in order for our training code to access it. Nevertheless, first, we will save it locally and we will upload to S3 later on.\n",
    "\n",
    "It is important to note the format of the data that we are saving as we will need to know it when we write the training code. In our case, each row of the dataset has the form `label`, `length`, `review[500]` where `review[500]` is a sequence of `500` integers representing the words in the review."
   ]
  },
  {
   "cell_type": "code",
   "execution_count": 20,
   "metadata": {},
   "outputs": [],
   "source": [
    "# Save locally the training dataset:\n",
    "pd.concat([pd.DataFrame(train_y), pd.DataFrame(train_X_len), pd.DataFrame(train_X)], axis=1) \\\n",
    "        .to_csv(os.path.join(data_dir, 'train.csv'), header=False, index=False)"
   ]
  },
  {
   "cell_type": "markdown",
   "metadata": {},
   "source": [
    "Next, we need to upload the training data to the SageMaker default S3 bucket so that we can provide access to it while training our model."
   ]
  },
  {
   "cell_type": "code",
   "execution_count": 21,
   "metadata": {},
   "outputs": [
    {
     "name": "stderr",
     "output_type": "stream",
     "text": [
      "INFO:sagemaker:Created S3 bucket: sagemaker-eu-west-1-579406810085\n"
     ]
    }
   ],
   "source": [
    "# Create SageMaker session:\n",
    "sagemaker_session = sagemaker.Session()\n",
    "\n",
    "# Define bucket, prefix and role:\n",
    "bucket = sagemaker_session.default_bucket()\n",
    "prefix = 'sagemaker/sentiment_rnn'\n",
    "role = sagemaker.get_execution_role()"
   ]
  },
  {
   "cell_type": "code",
   "execution_count": 22,
   "metadata": {},
   "outputs": [],
   "source": [
    "# Upload training data to SageMaker default S3 bucket:\n",
    "input_data = sagemaker_session.upload_data(path=data_dir, bucket=bucket, key_prefix=prefix)"
   ]
  },
  {
   "cell_type": "markdown",
   "metadata": {},
   "source": [
    "*Nota Bene:* The cell above uploads the entire contents of our data directory. This includes the `word_dict.pkl` file. This is fortunate as we will need this later on when we create an endpoint that accepts an arbitrary review. For now, we will just take note of the fact that it resides in the data directory (and so also in the S3 training bucket) and that we will need to make sure it gets saved in the model directory.\n",
    "\n",
    "## Step 4: Build and Train the PyTorch Model\n",
    "\n",
    "In the SageMaker framework, a model comprises three objects:\n",
    "\n",
    "- Model Artifacts;\n",
    "- Training Code;\n",
    "- Inference Code.\n",
    " \n",
    "Each of these objects interacts with one another. It is possible to use training and inference code that is provided by Amazon, nevertheless, here, we will still be using containers provided by Amazon, but with the added benefit of being able to include our own custom code.\n",
    "\n",
    "We will start by implementing our own neural network in PyTorch along with a training script.\n",
    "\n",
    "For the purposes of this project, we are going to use the model object defined in the `model.py` file, inside of the `train` folder.\n",
    "\n",
    "The provided implementation can be observed by running the cell below."
   ]
  },
  {
   "cell_type": "code",
   "execution_count": 23,
   "metadata": {},
   "outputs": [
    {
     "name": "stdout",
     "output_type": "stream",
     "text": [
      "\u001b[37m#!/usr/bin/env python3\u001b[39;49;00m\r\n",
      "\u001b[37m# -*- coding: utf-8 -*-\u001b[39;49;00m\r\n",
      "\r\n",
      "\r\n",
      "\u001b[37m#############################################################\u001b[39;49;00m\r\n",
      "\u001b[37m# PROGRAMMER: Pierre-Antoine Ksinant                        #\u001b[39;49;00m\r\n",
      "\u001b[37m# DATE CREATED: 20/12/2018                                  #\u001b[39;49;00m\r\n",
      "\u001b[37m# REVISED DATE: -                                           #\u001b[39;49;00m\r\n",
      "\u001b[37m# PURPOSE: Construct a RNN model based on LSTM units        #\u001b[39;49;00m\r\n",
      "\u001b[37m#############################################################\u001b[39;49;00m\r\n",
      "\r\n",
      "\r\n",
      "\u001b[37m##################\u001b[39;49;00m\r\n",
      "\u001b[37m# Needed imports #\u001b[39;49;00m\r\n",
      "\u001b[37m##################\u001b[39;49;00m\r\n",
      "\r\n",
      "\u001b[34mimport\u001b[39;49;00m \u001b[04m\u001b[36mtorch.nn\u001b[39;49;00m \u001b[34mas\u001b[39;49;00m \u001b[04m\u001b[36mnn\u001b[39;49;00m\r\n",
      "\r\n",
      "\r\n",
      "\u001b[37m######################################################\u001b[39;49;00m\r\n",
      "\u001b[37m# Class to construct a RNN model based on LSTM units #\u001b[39;49;00m\r\n",
      "\u001b[37m######################################################\u001b[39;49;00m\r\n",
      "\r\n",
      "\u001b[34mclass\u001b[39;49;00m \u001b[04m\u001b[32mLSTMClassifier\u001b[39;49;00m(nn.Module):\r\n",
      "    \u001b[33m\"\"\"\u001b[39;49;00m\r\n",
      "\u001b[33m    This is the simple RNN model we will be using to perform sentiment analysis\u001b[39;49;00m\r\n",
      "\u001b[33m    \"\"\"\u001b[39;49;00m\r\n",
      "\r\n",
      "    \u001b[37m# The initialize function:\u001b[39;49;00m\r\n",
      "\r\n",
      "    \u001b[34mdef\u001b[39;49;00m \u001b[32m__init__\u001b[39;49;00m(\u001b[36mself\u001b[39;49;00m, embedding_dim, hidden_dim, vocab_size):\r\n",
      "        \u001b[33m\"\"\"\u001b[39;49;00m\r\n",
      "\u001b[33m        Initialize the model by setting up the various layers\u001b[39;49;00m\r\n",
      "\u001b[33m        Parameters\u001b[39;49;00m\r\n",
      "\u001b[33m         embedding_dim - the size of embeddings\u001b[39;49;00m\r\n",
      "\u001b[33m         hidden_dim - the size of the hidden layer outputs\u001b[39;49;00m\r\n",
      "\u001b[33m         vocab_size - the number of input dimensions of the neural network (the size of the vocabulary)\u001b[39;49;00m\r\n",
      "\u001b[33m        \"\"\"\u001b[39;49;00m\r\n",
      "\r\n",
      "        \u001b[36msuper\u001b[39;49;00m(LSTMClassifier, \u001b[36mself\u001b[39;49;00m).\u001b[32m__init__\u001b[39;49;00m()\r\n",
      "\r\n",
      "        \u001b[37m# Set embedding and layers:\u001b[39;49;00m\r\n",
      "        \u001b[36mself\u001b[39;49;00m.embedding = nn.Embedding(vocab_size, embedding_dim, padding_idx=\u001b[34m0\u001b[39;49;00m)\r\n",
      "        \u001b[36mself\u001b[39;49;00m.lstm = nn.LSTM(embedding_dim, hidden_dim)\r\n",
      "        \u001b[36mself\u001b[39;49;00m.dense = nn.Linear(in_features=hidden_dim, out_features=\u001b[34m1\u001b[39;49;00m)\r\n",
      "        \u001b[36mself\u001b[39;49;00m.sig = nn.Sigmoid()\r\n",
      "        \r\n",
      "        \u001b[37m# Set class variable:\u001b[39;49;00m\r\n",
      "        \u001b[36mself\u001b[39;49;00m.word_dict = \u001b[36mNone\u001b[39;49;00m\r\n",
      "\r\n",
      "    \u001b[37m# The forward propagation function:\u001b[39;49;00m\r\n",
      "\r\n",
      "    \u001b[34mdef\u001b[39;49;00m \u001b[32mforward\u001b[39;49;00m(\u001b[36mself\u001b[39;49;00m, x):\r\n",
      "        \u001b[33m\"\"\"\u001b[39;49;00m\r\n",
      "\u001b[33m        Perform a forward pass of the model on some input\u001b[39;49;00m\r\n",
      "\u001b[33m        Parameters\u001b[39;49;00m\r\n",
      "\u001b[33m         x - the input to the neural network\u001b[39;49;00m\r\n",
      "\u001b[33m        Returns\u001b[39;49;00m\r\n",
      "\u001b[33m         y - the output of the neural network\u001b[39;49;00m\r\n",
      "\u001b[33m        \"\"\"\u001b[39;49;00m\r\n",
      "\r\n",
      "        \u001b[37m# Processing of the input:\u001b[39;49;00m\r\n",
      "        x = x.t()\r\n",
      "        lengths = x[\u001b[34m0\u001b[39;49;00m,:]\r\n",
      "        reviews = x[\u001b[34m1\u001b[39;49;00m:,:]\r\n",
      "\r\n",
      "        \u001b[37m# Process forward pass:\u001b[39;49;00m\r\n",
      "        embeds = \u001b[36mself\u001b[39;49;00m.embedding(reviews)\r\n",
      "        lstm_out, _ = \u001b[36mself\u001b[39;49;00m.lstm(embeds)\r\n",
      "        out = \u001b[36mself\u001b[39;49;00m.dense(lstm_out)\r\n",
      "        out = out[lengths - \u001b[34m1\u001b[39;49;00m, \u001b[36mrange\u001b[39;49;00m(\u001b[36mlen\u001b[39;49;00m(lengths))]\r\n",
      "        y = \u001b[36mself\u001b[39;49;00m.sig(out.squeeze())\r\n",
      "\r\n",
      "        \u001b[37m# Return the output of the neural network:\u001b[39;49;00m\r\n",
      "        \u001b[34mreturn\u001b[39;49;00m y\r\n"
     ]
    }
   ],
   "source": [
    "!pygmentize train/model.py"
   ]
  },
  {
   "cell_type": "markdown",
   "metadata": {},
   "source": [
    "The important takeaway from the implementation provided is that there are three parameters that we may wish to tweak to improve the performance of our model. These are the embedding dimension, the hidden dimension and the size of the vocabulary. We will likely want to make these parameters configurable in the training script so that if we wish to modify them we do not need to modify the script itself. We will see how to do this later on. To start we will write some of the training code in the notebook so that we can more easily diagnose any issues that arise.\n",
    "\n",
    "First we will load a small portion of the training data set to use as a sample. It would be very time consuming to try and train the model completely in the notebook as we do not have access to a gpu and the compute instance that we are using is not particularly powerful. However, we can work on a small bit of the data to get a feel for how our training script is behaving."
   ]
  },
  {
   "cell_type": "code",
   "execution_count": 24,
   "metadata": {},
   "outputs": [],
   "source": [
    "# Read in only the first 250 rows:\n",
    "train_sample = pd.read_csv(os.path.join(data_dir, 'train.csv'), header=None, names=None, nrows=250)\n",
    "\n",
    "# Turn the input pandas dataframe into tensors:\n",
    "train_sample_y = torch.from_numpy(train_sample[[0]].values).float().squeeze()\n",
    "train_sample_X = torch.from_numpy(train_sample.drop([0], axis=1).values).long()\n",
    "\n",
    "# Build the dataset:\n",
    "train_sample_ds = TensorDataset(train_sample_X, train_sample_y)\n",
    "\n",
    "# Build the dataloader:\n",
    "train_sample_dl = DataLoader(train_sample_ds, batch_size=50)"
   ]
  },
  {
   "cell_type": "markdown",
   "metadata": {},
   "source": [
    "Next we need to write the training code itself."
   ]
  },
  {
   "cell_type": "code",
   "execution_count": 25,
   "metadata": {},
   "outputs": [],
   "source": [
    "# Function train:\n",
    "\n",
    "def train(model, train_loader, epochs, optimizer, loss_fn, device):\n",
    "    \"\"\"\n",
    "    This is the training function that is called by the PyTorch training script. The parameters\n",
    "    passed are as follows:\n",
    "    model        - The PyTorch model that we wish to train.\n",
    "    train_loader - The PyTorch DataLoader that should be used during training.\n",
    "    epochs       - The total number of epochs to train for.\n",
    "    optimizer    - The optimizer to use during training.\n",
    "    loss_fn      - The loss function used for training.\n",
    "    device       - Where the model and data should be loaded (gpu or cpu).\n",
    "    \"\"\"\n",
    "    \n",
    "    # Track the training session:\n",
    "    print(\"Training (for {} epoch(s)):\\n*****\".format(epochs))\n",
    "    start_time = time.time()\n",
    "    \n",
    "    # Perform forward and backpropagation passes:\n",
    "    for epoch in range(1, epochs + 1):\n",
    "        \n",
    "        # Put model in training mode:\n",
    "        model.train()\n",
    "        \n",
    "        # Set total loss to zero:\n",
    "        total_loss = 0\n",
    "        \n",
    "        # Move on training data loader:\n",
    "        for batch in train_loader:\n",
    "            \n",
    "            # Define data and label:\n",
    "            batch_X, batch_y = batch\n",
    "            \n",
    "            # Move to consistent device:\n",
    "            batch_X = batch_X.to(device)\n",
    "            batch_y = batch_y.to(device)\n",
    "            \n",
    "            # Zero accumulated gradients:\n",
    "            optimizer.zero_grad()\n",
    "            \n",
    "            # Get the output from the model:\n",
    "            batch_output = model.forward(batch_X)\n",
    "            \n",
    "            # Calculate the loss:\n",
    "            loss = loss_fn(batch_output, batch_y)\n",
    "            \n",
    "            # Perform backpropagation:\n",
    "            loss.backward()\n",
    "            \n",
    "            # Perform optimization:\n",
    "            optimizer.step()\n",
    "            \n",
    "            # Calculate loss over data loader:\n",
    "            total_loss += loss.item()\n",
    "        \n",
    "        # Print and register loss stats:\n",
    "        print(\"Epoch {}... Loss {}...\".format(epoch, total_loss/len(train_loader)))\n",
    "    \n",
    "    # Time performance:\n",
    "    end_time = time.time()\n",
    "    total_time = int(end_time - start_time)\n",
    "    hours = total_time//3600\n",
    "    minutes = (total_time%3600)//60\n",
    "    seconds = (total_time%3600)%60\n",
    "    print(\"*****\\nEnd of the training: {:02d}h {:02d}m {:02d}s\".format(hours,\n",
    "                                                                       minutes,\n",
    "                                                                       seconds))"
   ]
  },
  {
   "cell_type": "markdown",
   "metadata": {},
   "source": [
    "Supposing we have the training method above, we will test that it is working by writing a bit of code in the notebook that executes our training method on the small sample training set that we loaded earlier. The reason for doing this in the notebook is so that we have an opportunity to fix any errors that arise early when they are easier to diagnose."
   ]
  },
  {
   "cell_type": "code",
   "execution_count": 26,
   "metadata": {},
   "outputs": [
    {
     "name": "stdout",
     "output_type": "stream",
     "text": [
      "Training (for 5 epoch(s)):\n",
      "*****\n",
      "Epoch 1... Loss 0.6964830875396728...\n",
      "Epoch 2... Loss 0.688408088684082...\n",
      "Epoch 3... Loss 0.6823609828948974...\n",
      "Epoch 4... Loss 0.675974678993225...\n",
      "Epoch 5... Loss 0.6683764576911926...\n",
      "*****\n",
      "End of the training: 00h 00m 29s\n"
     ]
    }
   ],
   "source": [
    "# Set device:\n",
    "device = torch.device(\"cuda\" if torch.cuda.is_available() else \"cpu\")\n",
    "\n",
    "# Define model and move it to device:\n",
    "model = LSTMClassifier(32, 100, 5000).to(device)\n",
    "\n",
    "# Define optimizer and loss function:\n",
    "optimizer = Adam(model.parameters())\n",
    "loss_fn = BCELoss()\n",
    "\n",
    "# Perform training for 5 epochs:\n",
    "train(model, train_sample_dl, 5, optimizer, loss_fn, device)"
   ]
  },
  {
   "cell_type": "markdown",
   "metadata": {},
   "source": [
    "In order to construct a PyTorch model using SageMaker, we must provide SageMaker with a training script.\n",
    "\n",
    "We may optionally include a directory which will be copied to the container and from which our training code will be run: When the training container is executed, it will check the uploaded directory (if there is one) for a `requirements.txt` file and install any required Python libraries, after which the training script will be run.\n",
    "\n",
    "Furthermore, when a PyTorch model is constructed in SageMaker, an entry point must be specified, this is the Python file which will be executed when the model is trained.\n",
    "\n",
    "Inside of the `train` directory, there is a file called `train.py` which contains most of the necessary code to train our model (in particular, the `train()` function written above is the same as the one that can be found into this `train.py` file).\n",
    "\n",
    "The way that SageMaker passes hyperparameters to the training script is by way of arguments, these arguments can then be parsed and used in the training script: To see how this is done, take a look at the `train/train.py` file."
   ]
  },
  {
   "cell_type": "code",
   "execution_count": 27,
   "metadata": {},
   "outputs": [],
   "source": [
    "# Define estimator for SageMaker:\n",
    "estimator = PyTorch(entry_point=\"train.py\",\n",
    "                    source_dir=\"train\",\n",
    "                    role=role,\n",
    "                    framework_version='0.4.0',\n",
    "                    train_instance_count=1,\n",
    "                    train_instance_type='ml.p2.xlarge',\n",
    "                    hyperparameters={\n",
    "                        'epochs': 100,\n",
    "                        'hidden_dim': 200,\n",
    "                    })"
   ]
  },
  {
   "cell_type": "code",
   "execution_count": 28,
   "metadata": {},
   "outputs": [
    {
     "name": "stderr",
     "output_type": "stream",
     "text": [
      "INFO:sagemaker:Creating training-job with name: sagemaker-pytorch-2018-12-25-09-12-36-047\n"
     ]
    },
    {
     "name": "stdout",
     "output_type": "stream",
     "text": [
      "2018-12-25 09:12:36 Starting - Starting the training job...\n",
      "2018-12-25 09:12:38 Starting - Launching requested ML instances...\n",
      "2018-12-25 09:13:34 Starting - Preparing the instances for training.........\n",
      "2018-12-25 09:14:48 Downloading - Downloading input data...\n",
      "2018-12-25 09:15:17 Training - Downloading the training image..\n",
      "\u001b[31mbash: cannot set terminal process group (-1): Inappropriate ioctl for device\u001b[0m\n",
      "\u001b[31mbash: no job control in this shell\u001b[0m\n",
      "\u001b[31m2018-12-25 09:15:50,660 sagemaker-containers INFO     Imported framework sagemaker_pytorch_container.training\u001b[0m\n",
      "\u001b[31m2018-12-25 09:15:50,686 sagemaker_pytorch_container.training INFO     Block until all host DNS lookups succeed.\u001b[0m\n",
      "\u001b[31m2018-12-25 09:15:50,692 sagemaker_pytorch_container.training INFO     Invoking user training script.\u001b[0m\n",
      "\u001b[31m2018-12-25 09:15:50,966 sagemaker-containers INFO     Module train does not provide a setup.py. \u001b[0m\n",
      "\u001b[31mGenerating setup.py\u001b[0m\n",
      "\u001b[31m2018-12-25 09:15:50,967 sagemaker-containers INFO     Generating setup.cfg\u001b[0m\n",
      "\u001b[31m2018-12-25 09:15:50,967 sagemaker-containers INFO     Generating MANIFEST.in\u001b[0m\n",
      "\u001b[31m2018-12-25 09:15:50,967 sagemaker-containers INFO     Installing module with the following command:\u001b[0m\n",
      "\u001b[31m/usr/bin/python -m pip install -U . -r requirements.txt\u001b[0m\n",
      "\u001b[31mProcessing /opt/ml/code\u001b[0m\n",
      "\u001b[31mCollecting pandas (from -r requirements.txt (line 1))\n",
      "  Downloading https://files.pythonhosted.org/packages/5d/d4/6e9c56a561f1d27407bf29318ca43f36ccaa289271b805a30034eb3a8ec4/pandas-0.23.4-cp35-cp35m-manylinux1_x86_64.whl (8.7MB)\u001b[0m\n",
      "\u001b[31mRequirement already up-to-date: numpy in /usr/local/lib/python3.5/dist-packages (from -r requirements.txt (line 2)) (1.15.4)\u001b[0m\n",
      "\u001b[31mCollecting nltk (from -r requirements.txt (line 3))\n",
      "  Downloading https://files.pythonhosted.org/packages/6f/ed/9c755d357d33bc1931e157f537721efb5b88d2c583fe593cc09603076cc3/nltk-3.4.zip (1.4MB)\u001b[0m\n",
      "\u001b[31mCollecting beautifulsoup4 (from -r requirements.txt (line 4))\n",
      "  Downloading https://files.pythonhosted.org/packages/21/0a/47fdf541c97fd9b6a610cb5fd518175308a7cc60569962e776ac52420387/beautifulsoup4-4.6.3-py3-none-any.whl (90kB)\u001b[0m\n",
      "\u001b[31mCollecting html5lib (from -r requirements.txt (line 5))\n",
      "  Downloading https://files.pythonhosted.org/packages/a5/62/bbd2be0e7943ec8504b517e62bab011b4946e1258842bc159e5dfde15b96/html5lib-1.0.1-py2.py3-none-any.whl (117kB)\u001b[0m\n",
      "\u001b[31mRequirement already satisfied, skipping upgrade: python-dateutil>=2.5.0 in /usr/local/lib/python3.5/dist-packages (from pandas->-r requirements.txt (line 1)) (2.7.5)\u001b[0m\n",
      "\u001b[31mCollecting pytz>=2011k (from pandas->-r requirements.txt (line 1))\u001b[0m\n",
      "\u001b[31m  Downloading https://files.pythonhosted.org/packages/f8/0e/2365ddc010afb3d79147f1dd544e5ee24bf4ece58ab99b16fbb465ce6dc0/pytz-2018.7-py2.py3-none-any.whl (506kB)\u001b[0m\n",
      "\u001b[31mRequirement already satisfied, skipping upgrade: six in /usr/local/lib/python3.5/dist-packages (from nltk->-r requirements.txt (line 3)) (1.11.0)\u001b[0m\n",
      "\u001b[31mCollecting singledispatch (from nltk->-r requirements.txt (line 3))\n",
      "  Downloading https://files.pythonhosted.org/packages/c5/10/369f50bcd4621b263927b0a1519987a04383d4a98fb10438042ad410cf88/singledispatch-3.4.0.3-py2.py3-none-any.whl\u001b[0m\n",
      "\u001b[31mCollecting webencodings (from html5lib->-r requirements.txt (line 5))\n",
      "  Downloading https://files.pythonhosted.org/packages/f4/24/2a3e3df732393fed8b3ebf2ec078f05546de641fe1b667ee316ec1dcf3b7/webencodings-0.5.1-py2.py3-none-any.whl\u001b[0m\n",
      "\u001b[31mBuilding wheels for collected packages: nltk, train\n",
      "  Running setup.py bdist_wheel for nltk: started\n",
      "  Running setup.py bdist_wheel for nltk: finished with status 'done'\n",
      "  Stored in directory: /root/.cache/pip/wheels/4b/c8/24/b2343664bcceb7147efeb21c0b23703a05b23fcfeaceaa2a1e\u001b[0m\n",
      "\n",
      "2018-12-25 09:15:49 Training - Training image download completed. Training in progress.\u001b[31m  Running setup.py bdist_wheel for train: started\n",
      "  Running setup.py bdist_wheel for train: finished with status 'done'\n",
      "  Stored in directory: /tmp/pip-ephem-wheel-cache-bo06iucx/wheels/35/24/16/37574d11bf9bde50616c67372a334f94fa8356bc7164af8ca3\u001b[0m\n",
      "\u001b[31mSuccessfully built nltk train\u001b[0m\n",
      "\u001b[31mInstalling collected packages: pytz, pandas, singledispatch, nltk, beautifulsoup4, webencodings, html5lib, train\u001b[0m\n",
      "\u001b[31mSuccessfully installed beautifulsoup4-4.6.3 html5lib-1.0.1 nltk-3.4 pandas-0.23.4 pytz-2018.7 singledispatch-3.4.0.3 train-1.0.0 webencodings-0.5.1\u001b[0m\n",
      "\u001b[31m2018-12-25 09:15:59,317 sagemaker-containers INFO     Invoking user script\n",
      "\u001b[0m\n",
      "\u001b[31mTraining Env:\n",
      "\u001b[0m\n",
      "\u001b[31m{\n",
      "    \"input_config_dir\": \"/opt/ml/input/config\",\n",
      "    \"input_data_config\": {\n",
      "        \"training\": {\n",
      "            \"RecordWrapperType\": \"None\",\n",
      "            \"TrainingInputMode\": \"File\",\n",
      "            \"S3DistributionType\": \"FullyReplicated\"\n",
      "        }\n",
      "    },\n",
      "    \"model_dir\": \"/opt/ml/model\",\n",
      "    \"module_dir\": \"s3://sagemaker-eu-west-1-579406810085/sagemaker-pytorch-2018-12-25-09-12-36-047/source/sourcedir.tar.gz\",\n",
      "    \"hosts\": [\n",
      "        \"algo-1\"\n",
      "    ],\n",
      "    \"module_name\": \"train\",\n",
      "    \"channel_input_dirs\": {\n",
      "        \"training\": \"/opt/ml/input/data/training\"\n",
      "    },\n",
      "    \"network_interface_name\": \"ethwe\",\n",
      "    \"log_level\": 20,\n",
      "    \"input_dir\": \"/opt/ml/input\",\n",
      "    \"additional_framework_parameters\": {},\n",
      "    \"hyperparameters\": {\n",
      "        \"epochs\": 100,\n",
      "        \"hidden_dim\": 200\n",
      "    },\n",
      "    \"num_cpus\": 4,\n",
      "    \"user_entry_point\": \"train.py\",\n",
      "    \"resource_config\": {\n",
      "        \"network_interface_name\": \"ethwe\",\n",
      "        \"hosts\": [\n",
      "            \"algo-1\"\n",
      "        ],\n",
      "        \"current_host\": \"algo-1\"\n",
      "    },\n",
      "    \"num_gpus\": 1,\n",
      "    \"job_name\": \"sagemaker-pytorch-2018-12-25-09-12-36-047\",\n",
      "    \"output_data_dir\": \"/opt/ml/output/data\",\n",
      "    \"output_intermediate_dir\": \"/opt/ml/output/intermediate\",\n",
      "    \"output_dir\": \"/opt/ml/output\",\n",
      "    \"framework_module\": \"sagemaker_pytorch_container.training:main\",\n",
      "    \"current_host\": \"algo-1\"\u001b[0m\n",
      "\u001b[31m}\n",
      "\u001b[0m\n",
      "\u001b[31mEnvironment variables:\n",
      "\u001b[0m\n",
      "\u001b[31mSM_NETWORK_INTERFACE_NAME=ethwe\u001b[0m\n",
      "\u001b[31mSM_FRAMEWORK_PARAMS={}\u001b[0m\n",
      "\u001b[31mSM_USER_ENTRY_POINT=train.py\u001b[0m\n",
      "\u001b[31mSM_FRAMEWORK_MODULE=sagemaker_pytorch_container.training:main\u001b[0m\n",
      "\u001b[31mSM_OUTPUT_DATA_DIR=/opt/ml/output/data\u001b[0m\n",
      "\u001b[31mPYTHONPATH=/usr/local/bin:/usr/lib/python35.zip:/usr/lib/python3.5:/usr/lib/python3.5/plat-x86_64-linux-gnu:/usr/lib/python3.5/lib-dynload:/usr/local/lib/python3.5/dist-packages:/usr/lib/python3/dist-packages\u001b[0m\n",
      "\u001b[31mSM_INPUT_DIR=/opt/ml/input\u001b[0m\n",
      "\u001b[31mSM_USER_ARGS=[\"--epochs\",\"100\",\"--hidden_dim\",\"200\"]\u001b[0m\n",
      "\u001b[31mSM_LOG_LEVEL=20\u001b[0m\n",
      "\u001b[31mSM_HP_HIDDEN_DIM=200\u001b[0m\n",
      "\u001b[31mSM_HP_EPOCHS=100\u001b[0m\n",
      "\u001b[31mSM_HOSTS=[\"algo-1\"]\u001b[0m\n",
      "\u001b[31mSM_OUTPUT_DIR=/opt/ml/output\u001b[0m\n",
      "\u001b[31mSM_NUM_CPUS=4\u001b[0m\n",
      "\u001b[31mSM_TRAINING_ENV={\"additional_framework_parameters\":{},\"channel_input_dirs\":{\"training\":\"/opt/ml/input/data/training\"},\"current_host\":\"algo-1\",\"framework_module\":\"sagemaker_pytorch_container.training:main\",\"hosts\":[\"algo-1\"],\"hyperparameters\":{\"epochs\":100,\"hidden_dim\":200},\"input_config_dir\":\"/opt/ml/input/config\",\"input_data_config\":{\"training\":{\"RecordWrapperType\":\"None\",\"S3DistributionType\":\"FullyReplicated\",\"TrainingInputMode\":\"File\"}},\"input_dir\":\"/opt/ml/input\",\"job_name\":\"sagemaker-pytorch-2018-12-25-09-12-36-047\",\"log_level\":20,\"model_dir\":\"/opt/ml/model\",\"module_dir\":\"s3://sagemaker-eu-west-1-579406810085/sagemaker-pytorch-2018-12-25-09-12-36-047/source/sourcedir.tar.gz\",\"module_name\":\"train\",\"network_interface_name\":\"ethwe\",\"num_cpus\":4,\"num_gpus\":1,\"output_data_dir\":\"/opt/ml/output/data\",\"output_dir\":\"/opt/ml/output\",\"output_intermediate_dir\":\"/opt/ml/output/intermediate\",\"resource_config\":{\"current_host\":\"algo-1\",\"hosts\":[\"algo-1\"],\"network_interface_name\":\"ethwe\"},\"user_entry_point\":\"train.py\"}\u001b[0m\n",
      "\u001b[31mSM_INPUT_DATA_CONFIG={\"training\":{\"RecordWrapperType\":\"None\",\"S3DistributionType\":\"FullyReplicated\",\"TrainingInputMode\":\"File\"}}\u001b[0m\n",
      "\u001b[31mSM_CHANNEL_TRAINING=/opt/ml/input/data/training\u001b[0m\n",
      "\u001b[31mSM_INPUT_CONFIG_DIR=/opt/ml/input/config\u001b[0m\n",
      "\u001b[31mSM_OUTPUT_INTERMEDIATE_DIR=/opt/ml/output/intermediate\u001b[0m\n",
      "\u001b[31mSM_CHANNELS=[\"training\"]\u001b[0m\n",
      "\u001b[31mSM_HPS={\"epochs\":100,\"hidden_dim\":200}\u001b[0m\n",
      "\u001b[31mSM_CURRENT_HOST=algo-1\u001b[0m\n",
      "\u001b[31mSM_RESOURCE_CONFIG={\"current_host\":\"algo-1\",\"hosts\":[\"algo-1\"],\"network_interface_name\":\"ethwe\"}\u001b[0m\n",
      "\u001b[31mSM_NUM_GPUS=1\u001b[0m\n",
      "\u001b[31mSM_MODEL_DIR=/opt/ml/model\u001b[0m\n",
      "\u001b[31mSM_MODULE_NAME=train\u001b[0m\n",
      "\u001b[31mSM_MODULE_DIR=s3://sagemaker-eu-west-1-579406810085/sagemaker-pytorch-2018-12-25-09-12-36-047/source/sourcedir.tar.gz\n",
      "\u001b[0m\n",
      "\u001b[31mInvoking script with the following command:\n",
      "\u001b[0m\n",
      "\u001b[31m/usr/bin/python -m train --epochs 100 --hidden_dim 200\n",
      "\n",
      "\u001b[0m\n",
      "\u001b[31mUsing device cuda...\u001b[0m\n",
      "\u001b[31mGet train data loader...\u001b[0m\n",
      "\u001b[31mDone.\u001b[0m\n"
     ]
    },
    {
     "name": "stdout",
     "output_type": "stream",
     "text": [
      "\u001b[31mModel loaded with embedding_dim 32, hidden_dim 200, vocab_size 5000...\u001b[0m\n",
      "\u001b[31mTraining (for 100 epoch(s)):\u001b[0m\n",
      "\u001b[31m*****\u001b[0m\n",
      "\u001b[31mEpoch 1... Loss 0.668552460719128...\u001b[0m\n",
      "\u001b[31mEpoch 2... Loss 0.5984970866417398...\u001b[0m\n",
      "\u001b[31mEpoch 3... Loss 0.5067791008219427...\u001b[0m\n",
      "\u001b[31mEpoch 4... Loss 0.4338025779140239...\u001b[0m\n",
      "\u001b[31mEpoch 5... Loss 0.39505745196829034...\u001b[0m\n",
      "\u001b[31mEpoch 6... Loss 0.35590209887952223...\u001b[0m\n",
      "\u001b[31mEpoch 7... Loss 0.32559014522299473...\u001b[0m\n",
      "\u001b[31mEpoch 8... Loss 0.29723833653391624...\u001b[0m\n",
      "\u001b[31mEpoch 9... Loss 0.27673907851686286...\u001b[0m\n",
      "\u001b[31mEpoch 10... Loss 0.2626749964392915...\u001b[0m\n",
      "\u001b[31mEpoch 11... Loss 0.26320676110228713...\u001b[0m\n",
      "\u001b[31mEpoch 12... Loss 0.24904222695194944...\u001b[0m\n",
      "\u001b[31mEpoch 13... Loss 0.23269278814598005...\u001b[0m\n",
      "\u001b[31mEpoch 14... Loss 0.22138099919776527...\u001b[0m\n",
      "\u001b[31mEpoch 15... Loss 0.2086204463730053...\u001b[0m\n",
      "\u001b[31mEpoch 16... Loss 0.21428000835739835...\u001b[0m\n",
      "\u001b[31mEpoch 17... Loss 0.20140253068233022...\u001b[0m\n",
      "\u001b[31mEpoch 18... Loss 0.19684941792974667...\u001b[0m\n",
      "\u001b[31mEpoch 19... Loss 0.19083736928141848...\u001b[0m\n",
      "\u001b[31mEpoch 20... Loss 0.17096014837829435...\u001b[0m\n",
      "\u001b[31mEpoch 21... Loss 0.1481524342480971...\u001b[0m\n",
      "\u001b[31mEpoch 22... Loss 0.13592810198968772...\u001b[0m\n",
      "\u001b[31mEpoch 23... Loss 0.13262996336027066...\u001b[0m\n",
      "\u001b[31mEpoch 24... Loss 0.1607093208906602...\u001b[0m\n",
      "\u001b[31mEpoch 25... Loss 0.16238966690642492...\u001b[0m\n",
      "\u001b[31mEpoch 26... Loss 0.14416180398999429...\u001b[0m\n",
      "\u001b[31mEpoch 27... Loss 0.13384243861144904...\u001b[0m\n",
      "\u001b[31mEpoch 28... Loss 0.11929243803024292...\u001b[0m\n",
      "\u001b[31mEpoch 29... Loss 0.10664264553663683...\u001b[0m\n",
      "\u001b[31mEpoch 30... Loss 0.14277860659117603...\u001b[0m\n",
      "\u001b[31mEpoch 31... Loss 0.12943470113131464...\u001b[0m\n",
      "\u001b[31mEpoch 32... Loss 0.09329306501515057...\u001b[0m\n",
      "\u001b[31mEpoch 33... Loss 0.0731269296030609...\u001b[0m\n",
      "\u001b[31mEpoch 34... Loss 0.10012648520725113...\u001b[0m\n",
      "\u001b[31mEpoch 35... Loss 0.06804389472366595...\u001b[0m\n",
      "\u001b[31mEpoch 36... Loss 0.060794799835706244...\u001b[0m\n",
      "\u001b[31mEpoch 37... Loss 0.04698206609761228...\u001b[0m\n",
      "\u001b[31mEpoch 38... Loss 0.03919590779637196...\u001b[0m\n",
      "\u001b[31mEpoch 39... Loss 0.02678323938150187...\u001b[0m\n",
      "\u001b[31mEpoch 40... Loss 0.06986825970210592...\u001b[0m\n",
      "\u001b[31mEpoch 41... Loss 0.03405475536627429...\u001b[0m\n",
      "\u001b[31mEpoch 42... Loss 0.019561841884361848...\u001b[0m\n",
      "\u001b[31mEpoch 43... Loss 0.015809820176159242...\u001b[0m\n",
      "\u001b[31mEpoch 44... Loss 0.03417794196391288...\u001b[0m\n",
      "\u001b[31mEpoch 45... Loss 0.019835065366054068...\u001b[0m\n",
      "\u001b[31mEpoch 46... Loss 0.010735384758789929...\u001b[0m\n",
      "\u001b[31mEpoch 47... Loss 0.16326523043823485...\u001b[0m\n",
      "\u001b[31mEpoch 48... Loss 0.041413710547649134...\u001b[0m\n",
      "\u001b[31mEpoch 49... Loss 0.03008913163247765...\u001b[0m\n",
      "\u001b[31mEpoch 50... Loss 0.024765373663786724...\u001b[0m\n",
      "\u001b[31mEpoch 51... Loss 0.016210321470030715...\u001b[0m\n",
      "\u001b[31mEpoch 52... Loss 0.012233611543149668...\u001b[0m\n",
      "\u001b[31mEpoch 53... Loss 0.015078176449680207...\u001b[0m\n",
      "\u001b[31mEpoch 54... Loss 0.11702139067406557...\u001b[0m\n",
      "\u001b[31mEpoch 55... Loss 0.04316766255972337...\u001b[0m\n",
      "\u001b[31mEpoch 56... Loss 0.024407901886698544...\u001b[0m\n",
      "\u001b[31mEpoch 57... Loss 0.01990989477810811...\u001b[0m\n",
      "\u001b[31mEpoch 58... Loss 0.019858115067591473...\u001b[0m\n",
      "\u001b[31mEpoch 59... Loss 0.022559740034179116...\u001b[0m\n",
      "\u001b[31mEpoch 60... Loss 0.0268731541665537...\u001b[0m\n",
      "\u001b[31mEpoch 61... Loss 0.022005098819618627...\u001b[0m\n",
      "\u001b[31mEpoch 62... Loss 0.007666983644059878...\u001b[0m\n",
      "\u001b[31mEpoch 63... Loss 0.004816999437990694...\u001b[0m\n",
      "\u001b[31mEpoch 64... Loss 0.003028396500407585...\u001b[0m\n",
      "\u001b[31mEpoch 65... Loss 0.001852052656895652...\u001b[0m\n",
      "\u001b[31mEpoch 66... Loss 0.0014490989899281792...\u001b[0m\n",
      "\u001b[31mEpoch 67... Loss 0.0012054951155881341...\u001b[0m\n",
      "\u001b[31mEpoch 68... Loss 0.0010477640744469756...\u001b[0m\n",
      "\u001b[31mEpoch 69... Loss 0.0009267157987853018...\u001b[0m\n",
      "\u001b[31mEpoch 70... Loss 0.0008289850238539583...\u001b[0m\n",
      "\u001b[31mEpoch 71... Loss 0.0007486040412914008...\u001b[0m\n",
      "\u001b[31mEpoch 72... Loss 0.0006808516146539121...\u001b[0m\n",
      "\u001b[31mEpoch 73... Loss 0.0006229165235857422...\u001b[0m\n",
      "\u001b[31mEpoch 74... Loss 0.0005726134276839582...\u001b[0m\n",
      "\u001b[31mEpoch 75... Loss 0.0005283906205904156...\u001b[0m\n",
      "\u001b[31mEpoch 76... Loss 0.0004895117816310946...\u001b[0m\n",
      "\u001b[31mEpoch 77... Loss 0.0004550440584984133...\u001b[0m\n",
      "\u001b[31mEpoch 78... Loss 0.000424217794753364...\u001b[0m\n",
      "\u001b[31mEpoch 79... Loss 0.0003966436060905761...\u001b[0m\n",
      "\u001b[31mEpoch 80... Loss 0.00037168016228397206...\u001b[0m\n",
      "\u001b[31mEpoch 81... Loss 0.0003489941395391539...\u001b[0m\n",
      "\u001b[31mEpoch 82... Loss 0.00032829535158103977...\u001b[0m\n",
      "\u001b[31mEpoch 83... Loss 0.00030934474132812527...\u001b[0m\n",
      "\u001b[31mEpoch 84... Loss 0.00029193789089972875...\u001b[0m\n",
      "\u001b[31mEpoch 85... Loss 0.00027590154756896424...\u001b[0m\n",
      "\u001b[31mEpoch 86... Loss 0.0002610869341879152...\u001b[0m\n",
      "\u001b[31mEpoch 87... Loss 0.0002473663639369877...\u001b[0m\n",
      "\u001b[31mEpoch 88... Loss 0.0002346297371740529...\u001b[0m\n",
      "\u001b[31mEpoch 89... Loss 0.0002227808623242059...\u001b[0m\n",
      "\u001b[31mEpoch 90... Loss 0.00021173551334757168...\u001b[0m\n",
      "\u001b[31mEpoch 91... Loss 0.00020141985531117084...\u001b[0m\n",
      "\u001b[31mEpoch 92... Loss 0.00019176945025552712...\u001b[0m\n",
      "\u001b[31mEpoch 93... Loss 0.00018272607581932288...\u001b[0m\n",
      "\u001b[31mEpoch 94... Loss 0.00017423931110118116...\u001b[0m\n",
      "\u001b[31mEpoch 95... Loss 0.00016626347853013372...\u001b[0m\n",
      "\u001b[31mEpoch 96... Loss 0.00015875770519154945...\u001b[0m\n",
      "\u001b[31mEpoch 97... Loss 0.00015168501867803423...\u001b[0m\n",
      "\u001b[31mEpoch 98... Loss 0.00014501346639899195...\u001b[0m\n",
      "\u001b[31mEpoch 99... Loss 0.0001387128960436248...\u001b[0m\n",
      "\u001b[31mEpoch 100... Loss 0.00013275663469376384...\u001b[0m\n",
      "\u001b[31m*****\u001b[0m\n",
      "\u001b[31mEnd of the training: 00h 27m 50s\u001b[0m\n",
      "\u001b[31m2018-12-25 09:43:58,175 sagemaker-containers INFO     Reporting training SUCCESS\u001b[0m\n",
      "\n",
      "2018-12-25 09:44:06 Uploading - Uploading generated training model\n",
      "2018-12-25 09:44:06 Completed - Training job completed\n",
      "Billable seconds: 1758\n"
     ]
    }
   ],
   "source": [
    "# Perform training thanks to SageMaker:\n",
    "estimator.fit({'training': input_data})"
   ]
  },
  {
   "cell_type": "markdown",
   "metadata": {},
   "source": [
    "## Step 5: Test the trained model\n",
    "\n",
    "As mentioned at the top of this notebook, we will be testing this model by first deploying it and then sending the testing data to the deployed endpoint. We will do this so that we can make sure that the deployed model is working correctly.\n",
    "\n",
    "## Step 6: Deploy the trained model\n",
    "\n",
    "Now that we have trained our model, we would like to test it to see how it performs. Currently our model takes input of the form `review_length, review[500]` where `review[500]` is a sequence of `500` integers which describe the words present in the review, encoded using `word_dict`. Fortunately for us, SageMaker provides built-in inference code for models with simple inputs such as this.\n",
    "\n",
    "There is one thing that we need to provide, however, and that is a function which loads the saved model. This function must be called `model_fn()` and takes as its only parameter a path to the directory where the model artifacts are stored. This function must also be present in the python file which we specified as the entry point. In our case the model loading function has been provided and so no changes need to be made.\n",
    "\n",
    "*Nota Bene:* When the built-in inference code is run, it must import the `model_fn()` function from the `train.py` file. This is why the training code is wrapped in a main guard (i.e. `if __name__ == '__main__':`). Since we don't need to change anything in the code that was uploaded during training, we can simply deploy the current model as-is.\n",
    "\n",
    "*Nota Bene:* When deploying a model, we are asking SageMaker to launch an compute instance that will wait for data to be sent to it. As a result, this compute instance will continue to run until **we** shut it down: This is important to know since the cost of a deployed endpoint depends on how long it has been running for, in other words, **If we are no longer using a deployed endpoint, we must shut it down!**\n",
    "\n",
    "Now, we are going to deploy the trained model."
   ]
  },
  {
   "cell_type": "code",
   "execution_count": 29,
   "metadata": {},
   "outputs": [
    {
     "name": "stderr",
     "output_type": "stream",
     "text": [
      "INFO:sagemaker:Creating model with name: sagemaker-pytorch-2018-12-25-09-12-36-047\n",
      "INFO:sagemaker:Creating endpoint with name sagemaker-pytorch-2018-12-25-09-12-36-047\n"
     ]
    },
    {
     "name": "stdout",
     "output_type": "stream",
     "text": [
      "--------------------------------------------------------------------------!"
     ]
    }
   ],
   "source": [
    "# Deploy the trained model:\n",
    "predictor = estimator.deploy(initial_instance_count=1, instance_type='ml.m4.xlarge')"
   ]
  },
  {
   "cell_type": "markdown",
   "metadata": {},
   "source": [
    "## Step 7: Use the deployed model\n",
    "\n",
    "Once deployed, we can read in the test data and send it off to our deployed model to get some results, and, once we collect all of the results, we can determine how accurate our model is."
   ]
  },
  {
   "cell_type": "code",
   "execution_count": 30,
   "metadata": {},
   "outputs": [],
   "source": [
    "# Constitute test data:\n",
    "test_X = pd.concat([pd.DataFrame(test_X_len), pd.DataFrame(test_X)], axis=1)"
   ]
  },
  {
   "cell_type": "code",
   "execution_count": 31,
   "metadata": {},
   "outputs": [],
   "source": [
    "# We split the data into chunks and send each chunk seperately, accumulating the results.\n",
    "\n",
    "def predict(data, rows=512):\n",
    "    \"\"\"\n",
    "    This function performs prediction on splitted data\n",
    "    \"\"\"\n",
    "    \n",
    "    # Split data:\n",
    "    split_array = np.array_split(data, int(data.shape[0]/float(rows) + 1))\n",
    "    \n",
    "    # Initialize predictions:\n",
    "    predictions = np.array([])\n",
    "    \n",
    "    # Move on splitted data for predictions:\n",
    "    for array in split_array:\n",
    "        predictions = np.append(predictions, predictor.predict(array))\n",
    "    \n",
    "    # Returns predictions:\n",
    "    return predictions"
   ]
  },
  {
   "cell_type": "code",
   "execution_count": 32,
   "metadata": {},
   "outputs": [],
   "source": [
    "# Perform predictions on testing set:\n",
    "predictions = predict(test_X.values)\n",
    "predictions = [round(num) for num in predictions]"
   ]
  },
  {
   "cell_type": "code",
   "execution_count": 33,
   "metadata": {},
   "outputs": [
    {
     "name": "stdout",
     "output_type": "stream",
     "text": [
      "On testing set, the accuracy we get is:\n"
     ]
    },
    {
     "data": {
      "text/plain": [
       "0.84464"
      ]
     },
     "execution_count": 33,
     "metadata": {},
     "output_type": "execute_result"
    }
   ],
   "source": [
    "# Determine accuracy on testing set:\n",
    "print(\"On testing set, the accuracy we get is:\")\n",
    "accuracy_score(test_y, predictions)"
   ]
  },
  {
   "cell_type": "markdown",
   "metadata": {},
   "source": [
    "*Nota Bene:* This model's accurancy score is better than other ones that can be obtained thanks to other approaches, as for example using \"Kaggle competition killer\" XGBoost: Indeed, RNNs are particulary adapted for tasks which challenge us in this project.\n",
    "\n",
    "We now have a trained model which has been deployed and which we can send processed reviews to, and which returns the predicted sentiment. However, ultimately, we would like to be able to send our model an unprocessed review, that is, we would like to send the review itself as a string.\n",
    "\n",
    "For example, suppose we wish to send the following review to our model."
   ]
  },
  {
   "cell_type": "code",
   "execution_count": 34,
   "metadata": {},
   "outputs": [],
   "source": [
    "# Example of unprocessed review:\n",
    "test_review = \"The simplest pleasures in life are the best, \" \\\n",
    "              \"and this film is one of them. Combining a rather \" \\\n",
    "              \"basic storyline of love and adventure this movie \" \\\n",
    "              \"transcends the usual weekend fair with wit and unmitigated charm.\""
   ]
  },
  {
   "cell_type": "markdown",
   "metadata": {},
   "source": [
    "The question we now need to answer is, how do we send this review to our model?\n",
    "\n",
    "In the first section of this notebook, we did a bunch of data processing to the IMDb dataset, in particular, we did two specific things to the provided reviews:\n",
    "\n",
    "- Removed any html tags and stemmed the input;\n",
    "- Encoded the review as a sequence of integers using `word_dict`.\n",
    " \n",
    "So, in order to process the review, we will need to repeat these two steps."
   ]
  },
  {
   "cell_type": "code",
   "execution_count": 35,
   "metadata": {},
   "outputs": [],
   "source": [
    "# Convert test_review into a form usable by the model and save the results in test_data:\n",
    "test_data = [np.array(convert_and_pad(word_dict, review_to_words(test_review))[0])]"
   ]
  },
  {
   "cell_type": "markdown",
   "metadata": {},
   "source": [
    "Now that we have processed the review, we can send the resulting array to our model to predict the sentiment of the review."
   ]
  },
  {
   "cell_type": "code",
   "execution_count": 36,
   "metadata": {},
   "outputs": [
    {
     "data": {
      "text/plain": [
       "array(0.775861, dtype=float32)"
      ]
     },
     "execution_count": 36,
     "metadata": {},
     "output_type": "execute_result"
    }
   ],
   "source": [
    "# Perform prediction on the test review:\n",
    "predictor.predict(test_data)"
   ]
  },
  {
   "cell_type": "markdown",
   "metadata": {},
   "source": [
    "Since the return value of our model is close to `1`, we can be certain that the review we submitted is positive.\n",
    "\n",
    "As it has been said previously, once we've deployed an endpoint, it continues to run until we tell it to shut down. So, since we are done using our endpoint for now, we can delete it."
   ]
  },
  {
   "cell_type": "code",
   "execution_count": 37,
   "metadata": {},
   "outputs": [
    {
     "name": "stderr",
     "output_type": "stream",
     "text": [
      "INFO:sagemaker:Deleting endpoint with name: sagemaker-pytorch-2018-12-25-09-12-36-047\n"
     ]
    }
   ],
   "source": [
    "# Delete endpoint:\n",
    "estimator.delete_endpoint()"
   ]
  },
  {
   "cell_type": "markdown",
   "metadata": {},
   "source": [
    "## Step 6 (again): Deploy the trained model (for the web app)\n",
    "\n",
    "Now that we know that our model is working, it's time to create some custom inference code so that we can send the model a review which has not been processed and have it determine the sentiment of the review.\n",
    "\n",
    "As we saw above, by default, the estimator which we created, when deployed, will use the entry script and directory which we provided when creating the model. However, since we now wish to accept a string as input and our model expects a processed review, we need to write some custom inference code.\n",
    "\n",
    "We will store the code that we write in the `serve` directory: In this directory, it can be found the `model.py` file that we used to construct our model, a `utils.py` file which contains the `review_to_words` and `convert_and_pad` pre-processing functions which we used during the initial data processing, and `predict.py`, the file which will contain our custom inference code. Note also that `requirements.txt` is present and will tell SageMaker what Python libraries are required by our custom inference code.\n",
    "\n",
    "When deploying a PyTorch model in SageMaker, it is expected to provide four functions which the SageMaker inference container will use.\n",
    "\n",
    "- `model_fn`: This function is the same function that we used in the training script and it tells SageMaker how to load our model;\n",
    "- `input_fn`: This function receives the raw serialized input that has been sent to the model's endpoint and its job is to de-serialize and make the input available for the inference code;\n",
    "- `output_fn`: This function takes the output of the inference code and its job is to serialize this output and return it to the caller of the model's endpoint;\n",
    "- `predict_fn`: The heart of the inference script, this is where the actual prediction is done.\n",
    "\n",
    "For the simple website that we are constructing during this project, the `input_fn` and `output_fn` methods are relatively straightforward: We only require being able to accept a string as input and we expect to return a single value as output.\n",
    "\n",
    "*Nota Bene:* In a more complex application, the input or output may be an image data or some other binary data which would require some effort to serialize.\n",
    "\n",
    "Now, it's time to create and deploy our model: To begin with, we need to construct a new PyTorchModel object which points to the model artifacts created during training and also points to the inference code that we wish to use, then, we can call the deploy method to launch the deployment container.\n",
    "\n",
    "*Nota Bene:* The default behaviour for a deployed PyTorch model is to assume that any input passed to the predictor is a `numpy` array. In our case, we want to send a string, so, we need to construct a simple wrapper around the `RealTimePredictor` class to accomodate simple strings. As it has been yet said previously, in a more complicated situation, we could imagine that we would need to provide a serialized object, as for example if we wanted to send image data."
   ]
  },
  {
   "cell_type": "code",
   "execution_count": 38,
   "metadata": {},
   "outputs": [
    {
     "name": "stderr",
     "output_type": "stream",
     "text": [
      "INFO:sagemaker:Creating model with name: sagemaker-pytorch-2018-12-25-09-57-40-179\n",
      "INFO:sagemaker:Creating endpoint with name sagemaker-pytorch-2018-12-25-09-57-40-179\n"
     ]
    },
    {
     "name": "stdout",
     "output_type": "stream",
     "text": [
      "--------------------------------------------------------------------------!"
     ]
    }
   ],
   "source": [
    "# Define StringPredictor class:\n",
    "class StringPredictor(RealTimePredictor):\n",
    "    def __init__(self, endpoint_name, sagemaker_session):\n",
    "        super(StringPredictor, self).__init__(endpoint_name, sagemaker_session, content_type='text/plain')\n",
    "\n",
    "# Define model:\n",
    "model = PyTorchModel(model_data=estimator.model_data,\n",
    "                     role = role,\n",
    "                     framework_version='0.4.0',\n",
    "                     entry_point='predict.py',\n",
    "                     source_dir='serve',\n",
    "                     predictor_cls=StringPredictor)\n",
    "\n",
    "# Define predictor:\n",
    "predictor = model.deploy(initial_instance_count=1, instance_type='ml.m4.xlarge')"
   ]
  },
  {
   "cell_type": "markdown",
   "metadata": {},
   "source": [
    "Now that we have deployed our model with the custom inference code, we should test to see if everything is working.\n",
    "\n",
    "Here, we test our model by loading the first `250` positive and negative reviews and send them to the endpoint, then, collect the results. The reason for only sending some of the data is that the amount of time it takes for our model to process the input and then perform inference is quite long and so testing the entire data set would be prohibitive."
   ]
  },
  {
   "cell_type": "code",
   "execution_count": 39,
   "metadata": {},
   "outputs": [],
   "source": [
    "# Function test_reviews:\n",
    "\n",
    "def test_reviews(data_dir='../data/aclImdb', stop=250):\n",
    "    \"\"\"\n",
    "    Function to test the model\n",
    "    \"\"\"\n",
    "    \n",
    "    # Initialize results and ground:\n",
    "    results = []\n",
    "    ground = []\n",
    "    \n",
    "    # Make sure to test both positive and negative reviews:\n",
    "    for sentiment in ['pos', 'neg']:\n",
    "        \n",
    "        # Define path to data to test:\n",
    "        path = os.path.join(data_dir, 'test', sentiment, '*.txt')\n",
    "        files = glob.glob(path)\n",
    "        \n",
    "        # Initialize files counter:\n",
    "        files_read = 0\n",
    "        \n",
    "        print(\"Start testing '{}' files...\".format(sentiment))\n",
    "        \n",
    "        # Iterate through the files and send them to the predictor:\n",
    "        for f in files:\n",
    "            with open(f) as review:\n",
    "                # Store the ground truth:\n",
    "                if sentiment == 'pos':\n",
    "                    ground.append(1)\n",
    "                else:\n",
    "                    ground.append(0)\n",
    "                # Read in the review and convert to 'utf-8' for transmission via HTTP:\n",
    "                review_input = review.read().encode('utf-8')\n",
    "                # Send the review to the predictor and store the results:\n",
    "                results.append(int(predictor.predict(review_input)))\n",
    "                \n",
    "            # Update files counter:\n",
    "            files_read += 1\n",
    "            if files_read == stop:\n",
    "                print(\"Done.\")\n",
    "                break\n",
    "            \n",
    "    # Return labels and predictions:\n",
    "    return ground, results"
   ]
  },
  {
   "cell_type": "code",
   "execution_count": 40,
   "metadata": {},
   "outputs": [
    {
     "name": "stdout",
     "output_type": "stream",
     "text": [
      "Start testing 'pos' files...\n",
      "Done.\n",
      "Start testing 'neg' files...\n",
      "Done.\n"
     ]
    }
   ],
   "source": [
    "# Perform tests:\n",
    "ground, results = test_reviews()"
   ]
  },
  {
   "cell_type": "code",
   "execution_count": 41,
   "metadata": {},
   "outputs": [
    {
     "data": {
      "text/plain": [
       "0.838"
      ]
     },
     "execution_count": 41,
     "metadata": {},
     "output_type": "execute_result"
    }
   ],
   "source": [
    "# Determine accuracy:\n",
    "accuracy_score(ground, results)"
   ]
  },
  {
   "cell_type": "markdown",
   "metadata": {},
   "source": [
    "As an additional test, we can try sending the `test_review` that we looked at earlier."
   ]
  },
  {
   "cell_type": "code",
   "execution_count": 42,
   "metadata": {},
   "outputs": [
    {
     "data": {
      "text/plain": [
       "b'1'"
      ]
     },
     "execution_count": 42,
     "metadata": {},
     "output_type": "execute_result"
    }
   ],
   "source": [
    "# Perform prediction on the test review:\n",
    "predictor.predict(test_review)"
   ]
  },
  {
   "cell_type": "markdown",
   "metadata": {},
   "source": [
    "Now that we know our endpoint is working as expected, we can set up the web page that will interact with it.\n",
    "\n",
    "## Step 7 (again): Use the deployed model (for the web app)\n",
    "\n",
    "*Nota Bene:* This entire section, and the next, contain tasks to complete mostly using the AWS console.\n",
    "\n",
    "So far, we have been accessing our model endpoint by constructing a predictor object which uses the endpoint, and then, just using the predictor object to perform inference. What if we wanted to create a web app which accessed our model?\n",
    "\n",
    "The way things are set up currently makes that it is not possible since, in order to access a SageMaker endpoint, the app would first have to authenticate with AWS using an IAM role which included access to SageMaker endpoints. However, there is an easier way, we just need to use some additional AWS services.\n",
    "\n",
    "<img src=\"assets/web_app_diagram.png\">\n",
    "\n",
    "The diagram above gives an overview of how the various services will work together. On the far right, there is the model which we trained above and which is deployed using SageMaker. On the far left, there is our web app that collects a user's movie review, sends it off, and expects a positive or negative sentiment in return.\n",
    "\n",
    "In the middle, there is where some of the \"magic\" happens: We will construct a Lambda function, which can be thought of as a straightforward Python function that can be executed whenever a specified event occurs.\n",
    "\n",
    "We will give this function permission to send and recieve data from a SageMaker endpoint.\n",
    "\n",
    "Lastly, the method we will use to execute the Lambda function is a new endpoint that we will create using API Gateway. This endpoint will be a url that listens for data to be sent to it. Once it gets some data, it will pass that data on to the Lambda function and then return whatever the Lambda function returns. Essentially, it will act as an interface that lets our web app communicate with the Lambda function.\n",
    "\n",
    "The first thing we are going to do is to set up a Lambda function.\n",
    "\n",
    "This Lambda function will be executed whenever our public API has data sent to it. When it is executed it will receive the data, perform any sort of processing that is required, send the data (the review) to the SageMaker endpoint we've created, and then return the result.\n",
    "\n",
    "Now, we are going to create an IAM Role for the Lambda function.\n",
    "\n",
    "Since we want the Lambda function to call a SageMaker endpoint, we need to make sure that it has permission to do so: To do this, we will construct a role that we can later give the Lambda function.\n",
    "\n",
    "Using the AWS Console, we can navigate to the **IAM** page and click on **Roles**. Then, we can click on **Create role**. We have to make sure that the **AWS service** is the type of trusted entity selected and we have to choose **Lambda** as the service that will use this role, then, we can click on **Next: Permissions**.\n",
    "\n",
    "In the search box, we can type `sagemaker` and select the check box next to the **AmazonSageMakerFullAccess** policy. Then, we have to click on **Next: Review**.\n",
    "\n",
    "Lastly, we need to give this role a name, and, obvioulsly, to make sure we use a name that we will remember later on, (for example, `LambdaSageMakerRole`). Then, we can click on **Create role**.\n",
    "\n",
    "Now it is time to actually create the Lambda function.\n",
    "\n",
    "Using the AWS Console, we can navigate to the AWS Lambda page and click on **Create a function**. When we get to the next page, we have to make sure that **Author from scratch** is selected. Now, we can name our Lambda function, using a name that you will remember later on (for example, `sentiment_analysis_func`). We have to make sure that the **Python 3.6** runtime is selected and then choose the role that we created just above. Then, we can click on **Create Function**.\n",
    "\n",
    "On the next page we will see some information about the Lambda function we've just created. If we scroll down, we should see an editor in which we can write the code that will be executed when our Lambda function is triggered.\n",
    "\n",
    "Here, we will use the code below: \n",
    "\n",
    "```python\n",
    "# We need to use the low-level library to interact with SageMaker since the SageMaker API:\n",
    "# (the SageMaker API is not available natively through Lambda)\n",
    "import boto3\n",
    "\n",
    "def lambda_handler(event, context):\n",
    "\n",
    "    # The SageMaker runtime is what allows us to invoke the endpoint that we've created:\n",
    "    runtime = boto3.Session().client('sagemaker-runtime')\n",
    "\n",
    "    # Now we use the SageMaker runtime to invoke our endpoint, sending the review we were given:\n",
    "    # (endpoint name we created, expected data format, actual review)\n",
    "    response = runtime.invoke_endpoint(EndpointName = '**ENDPOINT NAME HERE**',\n",
    "                                       ContentType = 'text/plain',\n",
    "                                       Body = event['body'])\n",
    "\n",
    "    # The response is an HTTP response whose body contains the result of our inference:\n",
    "    result = response['Body'].read().decode('utf-8')\n",
    "\n",
    "    return {\n",
    "        'statusCode' : 200,\n",
    "        'headers' : { 'Content-Type' : 'text/plain', 'Access-Control-Allow-Origin' : '*' },\n",
    "        'body' : result\n",
    "    }\n",
    "```\n",
    "\n",
    "Once we have copied and pasted the code above into the Lambda code editor, replace the `**ENDPOINT NAME HERE**` portion with the name of the endpoint that we deployed earlier.\n",
    "\n",
    "*Nota Bene:* We can determine the name of this endpoint using the code cell below."
   ]
  },
  {
   "cell_type": "code",
   "execution_count": 43,
   "metadata": {},
   "outputs": [
    {
     "data": {
      "text/plain": [
       "'sagemaker-pytorch-2018-12-25-09-57-40-179'"
      ]
     },
     "execution_count": 43,
     "metadata": {},
     "output_type": "execute_result"
    }
   ],
   "source": [
    "# Determine deployed endpoint name:\n",
    "predictor.endpoint"
   ]
  },
  {
   "cell_type": "markdown",
   "metadata": {},
   "source": [
    "Once we have added the endpoint name to the Lambda function, we can click on **Save**: Our Lambda function is now up and running!\n",
    "\n",
    "Next, we need to create a way for our web app to execute the Lambda function: It is time to create a new API using API Gateway that will trigger the Lambda function we have just created.\n",
    "\n",
    "Using AWS Console, we can navigate to **Amazon API Gateway** and then click on **Get started**.\n",
    "\n",
    "On the next page, we have to make sure that **New API** is selected and give the new api a name (for example, `sentiment_analysis_api`). Then, we can click on **Create API**.\n",
    "\n",
    "Now, we have created an API, however, it doesn't currently do anything: What we want it to do is to trigger the Lambda function that we created earlier.\n",
    "\n",
    "For that, we have to select the **Actions** dropdown menu and click **Create Method**. A new blank method will be created, we have to select its dropdown menu and select **POST**, and then, click on the check mark beside it.\n",
    "\n",
    "For the integration point, we have to make sure that **Lambda Function** is selected and click on the **Use Lambda Proxy integration**. This option makes sure that the data that is sent to the API is then sent directly to the Lambda function with no processing. It also means that the return value must be a proper response object as it will also not be processed by API Gateway.\n",
    "\n",
    "We have to type the name of the Lambda function we created earlier into the **Lambda Function** text entry box, and then, click on **Save**. Now, we can click on **OK** in the pop-up box that then appears, giving permission to API Gateway to invoke the Lambda function we created.\n",
    "\n",
    "The last step in creating the API Gateway is to select the **Actions** dropdown and click on **Deploy API**. We will need to create a new Deployment stage and name it anything we like (for example, `prod`).\n",
    "\n",
    "We have now successfully set up a public API to access our SageMaker model. So, we need to make sure to copy or write down the URL provided to invoke our newly created public API, as this will be needed in the next step.\n",
    "\n",
    "*Nota Bene:* This URL can be found at the top of the page, highlighted in blue next to the text **Invoke URL**.\n",
    "\n",
    "Now that we have a publicly available API, we can start using it in a web app. For these purposes, a simple static html file which can make use of the public api we created earlier is present (in the `website` folder, there should be a file called `index.html`).\n",
    "\n",
    "If we open `index.html` on our local computer, our browser will behave as a local web server and we can use the provided site to interact with our SageMaker model!\n",
    "\n",
    "*Nota Bene:* If we'd like to go further, we can host this html file anywhere we'd like, for example, using github or hosting a static site on Amazon's S3. Once we have done this, we can share the link with anyone we'd like and have them play with it too!\n",
    "\n",
    "> **Important Note**: In order for the web app to communicate with the SageMaker endpoint, the endpoint has to actually be deployed and running. This means that we are **paying** for it. So, we have to make sure that the endpoint is running when we want to use the web app, but that we shut it down when we don't need it, otherwise we will end up with a surprisingly **large AWS bill**!\n",
    "\n",
    "Now that our web app is working, we can try to play around with it and see how well it works: Below are some examples!\n",
    "\n",
    "<img src=\"assets/review_0.png\">\n",
    "\n",
    "<img src=\"assets/review_1.png\">\n",
    "\n",
    "<img src=\"assets/review_2.png\">\n",
    "\n",
    "<img src=\"assets/review_3.png\">\n",
    "\n",
    "<img src=\"assets/review_4.png\">\n",
    "\n",
    "> **Important Note**: As it has been said previously, we have to remember to always shut down our endpoint if we are no longer using it: We are charged for the length of time that the endpoint is running so if we forget and leave it on, we could end up with an **unexpectedly large bill**!"
   ]
  },
  {
   "cell_type": "code",
   "execution_count": 44,
   "metadata": {},
   "outputs": [
    {
     "name": "stderr",
     "output_type": "stream",
     "text": [
      "INFO:sagemaker:Deleting endpoint with name: sagemaker-pytorch-2018-12-25-09-57-40-179\n"
     ]
    }
   ],
   "source": [
    "# Delete endpoint to avoid unexpectedly large bill:\n",
    "predictor.delete_endpoint()"
   ]
  }
 ],
 "metadata": {
  "kernelspec": {
   "display_name": "Python 3",
   "language": "python",
   "name": "python3"
  },
  "language_info": {
   "codemirror_mode": {
    "name": "ipython",
    "version": 3
   },
   "file_extension": ".py",
   "mimetype": "text/x-python",
   "name": "python",
   "nbconvert_exporter": "python",
   "pygments_lexer": "ipython3",
   "version": "3.6.4"
  }
 },
 "nbformat": 4,
 "nbformat_minor": 2
}
